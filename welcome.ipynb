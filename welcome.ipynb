{
 "cells": [
  {
   "cell_type": "markdown",
   "id": "6349e8c5-7dd3-431a-9620-6ed8feb1a504",
   "metadata": {},
   "source": [
    "## Welcome to pavtiger's jupyter\n",
    "Here's a little overview\n",
    "\n",
    "You are working in a configured docker container specifically for your user.\n",
    "\n",
    "To view your running sessions go to https://jupyter.pavtiger.com/hub/home  \n",
    "There you can Start/Stop your server or even deploy a new one! (it will have access to the same workdir) It is handy to use an instance for each of your big projects to allow for different cuda, libraries, etc.\n",
    "\n",
    "If you're an admin, then you can go to https://jupyter.pavtiger.com/hub/admin#/ to manage users\n",
    "\n",
    "All of the `/workdir` files are located on SSD NAS and are snapshotted every hour and can be restored if necessary\n",
    "\n",
    "Terminal is configured with [ohmyzsh](https://ohmyz.sh/) for convenience\n",
    "\n",
    "You can also choose themes in `Settings` -> `Themes`\n",
    "\n",
    "For convinient library management there is `/requirements.txt` file with all versions of pre-installed packages to recreate kernel whenever you need\n",
    "\n",
    "For easy terminal use it is also recommended to setup oh my zsh using this command\n",
    "```shell\n",
    "sh -c \"$(curl -fsSL https://raw.githubusercontent.com/ohmyzsh/ohmyzsh/master/tools/install.sh)\"\n",
    "```\n",
    "(at this time it is not automated)"
   ]
  },
  {
   "cell_type": "code",
   "execution_count": 1,
   "id": "9bed5950-bc56-41aa-8405-4523b3038e18",
   "metadata": {},
   "outputs": [
    {
     "name": "stdout",
     "output_type": "stream",
     "text": [
      "nvcc: NVIDIA (R) Cuda compiler driver\n",
      "Copyright (c) 2005-2024 NVIDIA Corporation\n",
      "Built on Thu_Mar_28_02:18:24_PDT_2024\n",
      "Cuda compilation tools, release 12.4, V12.4.131\n",
      "Build cuda_12.4.r12.4/compiler.34097967_0\n"
     ]
    }
   ],
   "source": [
    "!nvcc --version"
   ]
  },
  {
   "cell_type": "code",
   "execution_count": 2,
   "id": "988bd07f-3e4c-487d-8c44-cdfb551bac54",
   "metadata": {},
   "outputs": [
    {
     "name": "stdout",
     "output_type": "stream",
     "text": [
      "Python 3.10.16\n"
     ]
    }
   ],
   "source": [
    "!python --version"
   ]
  },
  {
   "cell_type": "code",
   "execution_count": 3,
   "id": "b71ae3af-d692-4e0a-9e5c-117315daa0c6",
   "metadata": {},
   "outputs": [
    {
     "name": "stdout",
     "output_type": "stream",
     "text": [
      "Wed Feb 19 17:29:30 2025       \n",
      "+-----------------------------------------------------------------------------------------+\n",
      "| NVIDIA-SMI 560.35.03              Driver Version: 560.35.03      CUDA Version: 12.6     |\n",
      "|-----------------------------------------+------------------------+----------------------+\n",
      "| GPU  Name                 Persistence-M | Bus-Id          Disp.A | Volatile Uncorr. ECC |\n",
      "| Fan  Temp   Perf          Pwr:Usage/Cap |           Memory-Usage | GPU-Util  Compute M. |\n",
      "|                                         |                        |               MIG M. |\n",
      "|=========================================+========================+======================|\n",
      "|   0  NVIDIA GeForce RTX 3080        Off |   00000000:01:00.0  On |                  N/A |\n",
      "|  0%   52C    P8             29W /  320W |    2917MiB /  10240MiB |     27%      Default |\n",
      "|                                         |                        |                  N/A |\n",
      "+-----------------------------------------+------------------------+----------------------+\n",
      "                                                                                         \n",
      "+-----------------------------------------------------------------------------------------+\n",
      "| Processes:                                                                              |\n",
      "|  GPU   GI   CI        PID   Type   Process name                              GPU Memory |\n",
      "|        ID   ID                                                               Usage      |\n",
      "|=========================================================================================|\n",
      "+-----------------------------------------------------------------------------------------+\n"
     ]
    }
   ],
   "source": [
    "# GPU information:\n",
    "!nvidia-smi\n",
    "# or you can run `nvtop` in the terminal to see live graphs"
   ]
  },
  {
   "cell_type": "code",
   "execution_count": 4,
   "id": "6c63bb77-27a6-49cf-8c54-82932a5d5fc4",
   "metadata": {},
   "outputs": [
    {
     "name": "stdout",
     "output_type": "stream",
     "text": [
      "2.6.0+cu124\n",
      "12.4\n",
      "True\n"
     ]
    }
   ],
   "source": [
    "import torch\n",
    "print(torch.__version__)\n",
    "print(torch.version.cuda)\n",
    "print(torch.cuda.is_available())"
   ]
  },
  {
   "cell_type": "code",
   "execution_count": 1,
   "id": "40a165fc-5522-4ff0-b02e-4ab03268001a",
   "metadata": {},
   "outputs": [
    {
     "name": "stdout",
     "output_type": "stream",
     "text": [
      "4.3.5\n"
     ]
    }
   ],
   "source": [
    "!jupyter lab --version"
   ]
  },
  {
   "cell_type": "code",
   "execution_count": 5,
   "id": "29777d04-b898-456a-ae56-77faed058b43",
   "metadata": {},
   "outputs": [
    {
     "name": "stdout",
     "output_type": "stream",
     "text": [
      "GPU Name: NVIDIA GeForce RTX 3080\n",
      "Compute Capability: 8.6\n"
     ]
    }
   ],
   "source": [
    "import torch\n",
    "\n",
    "# Get the name of the first GPU device\n",
    "device_name = torch.cuda.get_device_name(0)\n",
    "print(\"GPU Name:\", device_name)\n",
    "y: 8.6\n",
    "\n",
    "# Get the compute capability (major, minor)\n",
    "major, minor = torch.cuda.get_device_capability(0)\n",
    "print(f\"Compute Capability: {major}.{minor}\")"
   ]
  }
 ],
 "metadata": {
  "kernelspec": {
   "display_name": "Python 3 (ipykernel)",
   "language": "python",
   "name": "python3"
  },
  "language_info": {
   "codemirror_mode": {
    "name": "ipython",
    "version": 3
   },
   "file_extension": ".py",
   "mimetype": "text/x-python",
   "name": "python",
   "nbconvert_exporter": "python",
   "pygments_lexer": "ipython3",
   "version": "3.10.16"
  }
 },
 "nbformat": 4,
 "nbformat_minor": 5
}
