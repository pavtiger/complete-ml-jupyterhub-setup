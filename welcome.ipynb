{
 "cells": [
  {
   "cell_type": "markdown",
   "id": "6349e8c5-7dd3-431a-9620-6ed8feb1a504",
   "metadata": {},
   "source": [
    "## Welcome to pavtiger's jupyter\n",
    "Here's a little overview\n",
    "\n",
    "You are working in a configured docker container specifically for your user.\n",
    "\n",
    "To view your running sessions go to https://jupyter.pavtiger.com/hub/home  \n",
    "There you can Start/Stop your server or even deploy a new one!\n",
    "\n",
    "If you're an admin, then you can go to https://jupyter.pavtiger.com/hub/admin#/ to manage users\n",
    "\n",
    "All of the `/workdir` files are located on SSD NAS and are snapshotted every hour and can be restored if necessary\n",
    "\n",
    "Terminal is configured with [ohmyzsh](https://ohmyz.sh/) for convenience\n",
    "\n",
    "You can also choose themes in `Settings` -> `Themes`"
   ]
  },
  {
   "cell_type": "code",
   "execution_count": 5,
   "id": "9bed5950-bc56-41aa-8405-4523b3038e18",
   "metadata": {},
   "outputs": [
    {
     "name": "stdout",
     "output_type": "stream",
     "text": [
      "nvcc: NVIDIA (R) Cuda compiler driver\n",
      "Copyright (c) 2005-2023 NVIDIA Corporation\n",
      "Built on Tue_Aug_15_22:02:13_PDT_2023\n",
      "Cuda compilation tools, release 12.2, V12.2.140\n",
      "Build cuda_12.2.r12.2/compiler.33191640_0\n"
     ]
    }
   ],
   "source": [
    "!nvcc --version"
   ]
  },
  {
   "cell_type": "code",
   "execution_count": 6,
   "id": "988bd07f-3e4c-487d-8c44-cdfb551bac54",
   "metadata": {},
   "outputs": [
    {
     "name": "stdout",
     "output_type": "stream",
     "text": [
      "Python 3.10.16\n"
     ]
    }
   ],
   "source": [
    "!python --version"
   ]
  },
  {
   "cell_type": "code",
   "execution_count": 7,
   "id": "b71ae3af-d692-4e0a-9e5c-117315daa0c6",
   "metadata": {},
   "outputs": [
    {
     "name": "stdout",
     "output_type": "stream",
     "text": [
      "Tue Feb 18 19:39:00 2025       \n",
      "+-----------------------------------------------------------------------------------------+\n",
      "| NVIDIA-SMI 560.35.03              Driver Version: 560.35.03      CUDA Version: 12.6     |\n",
      "|-----------------------------------------+------------------------+----------------------+\n",
      "| GPU  Name                 Persistence-M | Bus-Id          Disp.A | Volatile Uncorr. ECC |\n",
      "| Fan  Temp   Perf          Pwr:Usage/Cap |           Memory-Usage | GPU-Util  Compute M. |\n",
      "|                                         |                        |               MIG M. |\n",
      "|=========================================+========================+======================|\n",
      "|   0  NVIDIA GeForce RTX 3080        Off |   00000000:01:00.0  On |                  N/A |\n",
      "|  0%   40C    P8             10W /  320W |    2571MiB /  10240MiB |      0%      Default |\n",
      "|                                         |                        |                  N/A |\n",
      "+-----------------------------------------+------------------------+----------------------+\n",
      "                                                                                         \n",
      "+-----------------------------------------------------------------------------------------+\n",
      "| Processes:                                                                              |\n",
      "|  GPU   GI   CI        PID   Type   Process name                              GPU Memory |\n",
      "|        ID   ID                                                               Usage      |\n",
      "|=========================================================================================|\n",
      "+-----------------------------------------------------------------------------------------+\n"
     ]
    }
   ],
   "source": [
    "# GPU information:\n",
    "!nvidia-smi\n",
    "# or you can run `nvtop` in the terminal to see live graphs"
   ]
  },
  {
   "cell_type": "code",
   "execution_count": 9,
   "id": "6c63bb77-27a6-49cf-8c54-82932a5d5fc4",
   "metadata": {},
   "outputs": [
    {
     "data": {
      "text/plain": [
       "True"
      ]
     },
     "execution_count": 9,
     "metadata": {},
     "output_type": "execute_result"
    }
   ],
   "source": [
    "import torch\n",
    "torch.cuda.is_available()"
   ]
  },
  {
   "cell_type": "code",
   "execution_count": null,
   "id": "29777d04-b898-456a-ae56-77faed058b43",
   "metadata": {},
   "outputs": [],
   "source": []
  }
 ],
 "metadata": {
  "kernelspec": {
   "display_name": "Python 3 (ipykernel)",
   "language": "python",
   "name": "python3"
  },
  "language_info": {
   "codemirror_mode": {
    "name": "ipython",
    "version": 3
   },
   "file_extension": ".py",
   "mimetype": "text/x-python",
   "name": "python",
   "nbconvert_exporter": "python",
   "pygments_lexer": "ipython3",
   "version": "3.10.16"
  }
 },
 "nbformat": 4,
 "nbformat_minor": 5
}
